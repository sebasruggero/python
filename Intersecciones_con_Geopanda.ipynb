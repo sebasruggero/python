{
  "cells": [
    {
      "cell_type": "markdown",
      "metadata": {
        "id": "view-in-github",
        "colab_type": "text"
      },
      "source": [
        "<a href=\"https://colab.research.google.com/github/sebasruggero/python/blob/main/Intersecciones_con_Geopanda.ipynb\" target=\"_parent\"><img src=\"https://colab.research.google.com/assets/colab-badge.svg\" alt=\"Open In Colab\"/></a>"
      ]
    },
    {
      "cell_type": "markdown",
      "id": "81fec443-ad1d-4463-837b-a8c5d2c5880f",
      "metadata": {
        "id": "81fec443-ad1d-4463-837b-a8c5d2c5880f"
      },
      "source": [
        "![img](https://www.argentina.gob.ar/sites/default/files/min_transporte.png)\n",
        "## Intersecciones en Geopanda \n",
        "### Lic. Sebastian Ruggero\n",
        "\n"
      ]
    },
    {
      "cell_type": "markdown",
      "id": "c7100ce9-9006-4f10-9145-7fef99a93ea2",
      "metadata": {
        "id": "c7100ce9-9006-4f10-9145-7fef99a93ea2"
      },
      "source": [
        "## Importamos las librerias "
      ]
    },
    {
      "cell_type": "code",
      "execution_count": null,
      "id": "c79ed4aa-2943-469e-aee1-e6fce904d27a",
      "metadata": {
        "id": "c79ed4aa-2943-469e-aee1-e6fce904d27a"
      },
      "outputs": [],
      "source": [
        "import pandas as pd\n",
        "import geopandas as gpd\n",
        "import numpy as np\n",
        "from shapely.geometry import Point, Polygon\n",
        "import matplotlib.pyplot as plt\n",
        "import os"
      ]
    },
    {
      "cell_type": "markdown",
      "id": "60112587",
      "metadata": {
        "id": "60112587"
      },
      "source": [
        "## Definimos el directorio de las fuentes de datos \n"
      ]
    },
    {
      "cell_type": "code",
      "execution_count": null,
      "id": "ca1d1e5b",
      "metadata": {
        "id": "ca1d1e5b"
      },
      "outputs": [],
      "source": [
        "os.chdir(\"/home/sebastian/datas_science/renabap\") "
      ]
    },
    {
      "cell_type": "markdown",
      "id": "270660e1",
      "metadata": {
        "id": "270660e1"
      },
      "source": [
        "## Leemos la data\n",
        "[Data](https://drive.google.com/file/d/1IthzVbkqJvxHEQFn2A6d3K4n5tlEdd1v/view?usp=sharing)"
      ]
    },
    {
      "cell_type": "code",
      "execution_count": null,
      "id": "99a1a93e",
      "metadata": {
        "id": "99a1a93e"
      },
      "outputs": [],
      "source": [
        "### Data de viajes\n",
        "df = pd.read_csv(\"data/renabap.csv\", sep = \";\", encoding=\"UTF-8\")"
      ]
    },
    {
      "cell_type": "markdown",
      "id": "cbba5884",
      "metadata": {
        "id": "cbba5884"
      },
      "source": [
        "## Mostramos el encabezado\n"
      ]
    },
    {
      "cell_type": "code",
      "execution_count": null,
      "id": "6bd3c19a",
      "metadata": {
        "id": "6bd3c19a",
        "outputId": "38aa5013-3e23-447b-9c44-f2510bd5034e"
      },
      "outputs": [
        {
          "data": {
            "text/html": [
              "<div>\n",
              "<style scoped>\n",
              "    .dataframe tbody tr th:only-of-type {\n",
              "        vertical-align: middle;\n",
              "    }\n",
              "\n",
              "    .dataframe tbody tr th {\n",
              "        vertical-align: top;\n",
              "    }\n",
              "\n",
              "    .dataframe thead th {\n",
              "        text-align: right;\n",
              "    }\n",
              "</style>\n",
              "<table border=\"1\" class=\"dataframe\">\n",
              "  <thead>\n",
              "    <tr style=\"text-align: right;\">\n",
              "      <th></th>\n",
              "      <th>FECHATRX</th>\n",
              "      <th>DIA</th>\n",
              "      <th>DIASEMANA</th>\n",
              "      <th>HORA</th>\n",
              "      <th>MODO</th>\n",
              "      <th>NROTARJETA</th>\n",
              "      <th>SECUENCIA_</th>\n",
              "      <th>ID_COMBINA</th>\n",
              "      <th>CONTRATO</th>\n",
              "      <th>DESC_TRX</th>\n",
              "      <th>ENTIDAD</th>\n",
              "      <th>LINEA</th>\n",
              "      <th>MUNICIPIO</th>\n",
              "      <th>DESC_RAMAL</th>\n",
              "      <th>ESTACION</th>\n",
              "      <th>ID_SERVICI</th>\n",
              "      <th>DIRECTION</th>\n",
              "      <th>LONGITUDE</th>\n",
              "      <th>LATITUDE</th>\n",
              "    </tr>\n",
              "  </thead>\n",
              "  <tbody>\n",
              "    <tr>\n",
              "      <th>0</th>\n",
              "      <td>20/11/2021 23:59:40</td>\n",
              "      <td>20</td>\n",
              "      <td>Sábado</td>\n",
              "      <td>23</td>\n",
              "      <td>COLE</td>\n",
              "      <td>1838951397</td>\n",
              "      <td>113</td>\n",
              "      <td>NaN</td>\n",
              "      <td>627 - NO REGISTRADOS</td>\n",
              "      <td>Uso</td>\n",
              "      <td>LA NUEVA METROPOL S.A.</td>\n",
              "      <td>LINEA 365</td>\n",
              "      <td>PROV</td>\n",
              "      <td>365R6</td>\n",
              "      <td>NaN</td>\n",
              "      <td>2415</td>\n",
              "      <td>0</td>\n",
              "      <td>-58.80237</td>\n",
              "      <td>-34.54181</td>\n",
              "    </tr>\n",
              "  </tbody>\n",
              "</table>\n",
              "</div>"
            ],
            "text/plain": [
              "              FECHATRX  DIA DIASEMANA  HORA  MODO  NROTARJETA  SECUENCIA_  \\\n",
              "0  20/11/2021 23:59:40   20    Sábado    23  COLE  1838951397         113   \n",
              "\n",
              "   ID_COMBINA              CONTRATO DESC_TRX                 ENTIDAD  \\\n",
              "0         NaN  627 - NO REGISTRADOS      Uso  LA NUEVA METROPOL S.A.   \n",
              "\n",
              "       LINEA MUNICIPIO DESC_RAMAL  ESTACION  ID_SERVICI  DIRECTION  LONGITUDE  \\\n",
              "0  LINEA 365      PROV      365R6       NaN        2415          0  -58.80237   \n",
              "\n",
              "   LATITUDE  \n",
              "0 -34.54181  "
            ]
          },
          "execution_count": 4,
          "metadata": {},
          "output_type": "execute_result"
        }
      ],
      "source": [
        "df.head(1)"
      ]
    },
    {
      "cell_type": "markdown",
      "id": "423144c9",
      "metadata": {
        "id": "423144c9"
      },
      "source": [
        "## Importamos el shape que vamos a utilizar "
      ]
    },
    {
      "cell_type": "code",
      "execution_count": null,
      "id": "0ab08306",
      "metadata": {
        "id": "0ab08306",
        "outputId": "1ae19dad-cb97-46d0-fbe0-82d74f2f10ab"
      },
      "outputs": [
        {
          "data": {
            "text/html": [
              "<div>\n",
              "<style scoped>\n",
              "    .dataframe tbody tr th:only-of-type {\n",
              "        vertical-align: middle;\n",
              "    }\n",
              "\n",
              "    .dataframe tbody tr th {\n",
              "        vertical-align: top;\n",
              "    }\n",
              "\n",
              "    .dataframe thead th {\n",
              "        text-align: right;\n",
              "    }\n",
              "</style>\n",
              "<table border=\"1\" class=\"dataframe\">\n",
              "  <thead>\n",
              "    <tr style=\"text-align: right;\">\n",
              "      <th></th>\n",
              "      <th>ID</th>\n",
              "      <th>LOCALIDAD_</th>\n",
              "      <th>NOMBPARTID</th>\n",
              "      <th>COD_PAR</th>\n",
              "      <th>PARTIDO_1</th>\n",
              "      <th>CANT_LOC</th>\n",
              "      <th>CARPETA</th>\n",
              "      <th>RUTA</th>\n",
              "      <th>ARCHIVO</th>\n",
              "      <th>FORMATO</th>\n",
              "      <th>SUP</th>\n",
              "      <th>DATA</th>\n",
              "      <th>DIAGNOSTIC</th>\n",
              "      <th>geometry</th>\n",
              "    </tr>\n",
              "  </thead>\n",
              "  <tbody>\n",
              "    <tr>\n",
              "      <th>0</th>\n",
              "      <td>97</td>\n",
              "      <td>VIRREY DEL PINO</td>\n",
              "      <td>GBA</td>\n",
              "      <td>427.0</td>\n",
              "      <td>LA MATANZA</td>\n",
              "      <td>12.0</td>\n",
              "      <td>0</td>\n",
              "      <td>0</td>\n",
              "      <td>None</td>\n",
              "      <td>None</td>\n",
              "      <td>175.5</td>\n",
              "      <td>None</td>\n",
              "      <td>None</td>\n",
              "      <td>POLYGON ((10155002.772 -4116032.095, 10155313....</td>\n",
              "    </tr>\n",
              "  </tbody>\n",
              "</table>\n",
              "</div>"
            ],
            "text/plain": [
              "   ID       LOCALIDAD_ NOMBPARTID  COD_PAR   PARTIDO_1  CANT_LOC CARPETA RUTA  \\\n",
              "0  97  VIRREY DEL PINO        GBA    427.0  LA MATANZA      12.0       0    0   \n",
              "\n",
              "  ARCHIVO FORMATO    SUP  DATA DIAGNOSTIC  \\\n",
              "0    None    None  175.5  None       None   \n",
              "\n",
              "                                            geometry  \n",
              "0  POLYGON ((10155002.772 -4116032.095, 10155313....  "
            ]
          },
          "execution_count": 5,
          "metadata": {},
          "output_type": "execute_result"
        }
      ],
      "source": [
        "shape_localidades = gpd.read_file(\"data/loc/Localidades.shp\")\n",
        "shape_localidades.head(1)"
      ]
    },
    {
      "cell_type": "code",
      "execution_count": null,
      "id": "a7286ae9",
      "metadata": {
        "id": "a7286ae9",
        "outputId": "36f4b508-6290-48db-b113-d74a23e3a493"
      },
      "outputs": [
        {
          "data": {
            "text/html": [
              "<div>\n",
              "<style scoped>\n",
              "    .dataframe tbody tr th:only-of-type {\n",
              "        vertical-align: middle;\n",
              "    }\n",
              "\n",
              "    .dataframe tbody tr th {\n",
              "        vertical-align: top;\n",
              "    }\n",
              "\n",
              "    .dataframe thead th {\n",
              "        text-align: right;\n",
              "    }\n",
              "</style>\n",
              "<table border=\"1\" class=\"dataframe\">\n",
              "  <thead>\n",
              "    <tr style=\"text-align: right;\">\n",
              "      <th></th>\n",
              "      <th>ID</th>\n",
              "      <th>LOCALIDAD_</th>\n",
              "      <th>NOMBPARTID</th>\n",
              "      <th>COD_PAR</th>\n",
              "      <th>PARTIDO_1</th>\n",
              "      <th>CANT_LOC</th>\n",
              "      <th>CARPETA</th>\n",
              "      <th>RUTA</th>\n",
              "      <th>ARCHIVO</th>\n",
              "      <th>FORMATO</th>\n",
              "      <th>SUP</th>\n",
              "      <th>DATA</th>\n",
              "      <th>DIAGNOSTIC</th>\n",
              "      <th>geometry</th>\n",
              "    </tr>\n",
              "  </thead>\n",
              "  <tbody>\n",
              "    <tr>\n",
              "      <th>0</th>\n",
              "      <td>192</td>\n",
              "      <td>RINCON</td>\n",
              "      <td>GBA</td>\n",
              "      <td>805.0</td>\n",
              "      <td>TIGRE</td>\n",
              "      <td>7.0</td>\n",
              "      <td>0</td>\n",
              "      <td>0</td>\n",
              "      <td>None</td>\n",
              "      <td>None</td>\n",
              "      <td>26.8</td>\n",
              "      <td>None</td>\n",
              "      <td>None</td>\n",
              "      <td>POLYGON ((-58.64156 -34.38114, -58.63944 -34.3...</td>\n",
              "    </tr>\n",
              "  </tbody>\n",
              "</table>\n",
              "</div>"
            ],
            "text/plain": [
              "    ID LOCALIDAD_ NOMBPARTID  COD_PAR PARTIDO_1  CANT_LOC CARPETA RUTA  \\\n",
              "0  192     RINCON        GBA    805.0     TIGRE       7.0       0    0   \n",
              "\n",
              "  ARCHIVO FORMATO   SUP  DATA DIAGNOSTIC  \\\n",
              "0    None    None  26.8  None       None   \n",
              "\n",
              "                                            geometry  \n",
              "0  POLYGON ((-58.64156 -34.38114, -58.63944 -34.3...  "
            ]
          },
          "execution_count": 6,
          "metadata": {},
          "output_type": "execute_result"
        }
      ],
      "source": [
        "## Filtramos la localidad\n",
        "shape_filtrado = shape_localidades.loc[shape_localidades[\"LOCALIDAD_\"] == \"RINCON\"] \n",
        "\n",
        "## Reseteamos el indice\n",
        "shape_filtrado.reset_index(drop=True, inplace=True)\n",
        "\n",
        "## Pasamos el sistema a 4326\n",
        "shape_filtrado = shape_filtrado.to_crs(epsg= 4326)\n",
        "\n",
        "## Print encabezado\n",
        "shape_filtrado.head()"
      ]
    },
    {
      "cell_type": "markdown",
      "id": "9dde1d5b",
      "metadata": {
        "id": "9dde1d5b"
      },
      "source": [
        "## Creamos el Geo Data Frame de la Base"
      ]
    },
    {
      "cell_type": "code",
      "execution_count": null,
      "id": "5f033d60",
      "metadata": {
        "id": "5f033d60",
        "outputId": "ac88cfca-959f-434c-d95f-4c2120b377e3"
      },
      "outputs": [
        {
          "name": "stderr",
          "output_type": "stream",
          "text": [
            "/home/sebastian/anaconda3/envs/python-gis/lib/python3.8/site-packages/pandas/core/dtypes/cast.py:122: ShapelyDeprecationWarning: The array interface is deprecated and will no longer work in Shapely 2.0. Convert the '.coords' to a numpy array instead.\n",
            "  arr = construct_1d_object_array_from_listlike(values)\n"
          ]
        },
        {
          "data": {
            "text/html": [
              "<div>\n",
              "<style scoped>\n",
              "    .dataframe tbody tr th:only-of-type {\n",
              "        vertical-align: middle;\n",
              "    }\n",
              "\n",
              "    .dataframe tbody tr th {\n",
              "        vertical-align: top;\n",
              "    }\n",
              "\n",
              "    .dataframe thead th {\n",
              "        text-align: right;\n",
              "    }\n",
              "</style>\n",
              "<table border=\"1\" class=\"dataframe\">\n",
              "  <thead>\n",
              "    <tr style=\"text-align: right;\">\n",
              "      <th></th>\n",
              "      <th>FECHATRX</th>\n",
              "      <th>DIA</th>\n",
              "      <th>DIASEMANA</th>\n",
              "      <th>HORA</th>\n",
              "      <th>MODO</th>\n",
              "      <th>NROTARJETA</th>\n",
              "      <th>SECUENCIA_</th>\n",
              "      <th>ID_COMBINA</th>\n",
              "      <th>CONTRATO</th>\n",
              "      <th>DESC_TRX</th>\n",
              "      <th>ENTIDAD</th>\n",
              "      <th>LINEA</th>\n",
              "      <th>MUNICIPIO</th>\n",
              "      <th>DESC_RAMAL</th>\n",
              "      <th>ESTACION</th>\n",
              "      <th>ID_SERVICI</th>\n",
              "      <th>DIRECTION</th>\n",
              "      <th>LONGITUDE</th>\n",
              "      <th>LATITUDE</th>\n",
              "      <th>geometry</th>\n",
              "    </tr>\n",
              "  </thead>\n",
              "  <tbody>\n",
              "    <tr>\n",
              "      <th>0</th>\n",
              "      <td>20/11/2021 23:59:40</td>\n",
              "      <td>20</td>\n",
              "      <td>Sábado</td>\n",
              "      <td>23</td>\n",
              "      <td>COLE</td>\n",
              "      <td>1838951397</td>\n",
              "      <td>113</td>\n",
              "      <td>NaN</td>\n",
              "      <td>627 - NO REGISTRADOS</td>\n",
              "      <td>Uso</td>\n",
              "      <td>LA NUEVA METROPOL S.A.</td>\n",
              "      <td>LINEA 365</td>\n",
              "      <td>PROV</td>\n",
              "      <td>365R6</td>\n",
              "      <td>NaN</td>\n",
              "      <td>2415</td>\n",
              "      <td>0</td>\n",
              "      <td>-58.80237</td>\n",
              "      <td>-34.54181</td>\n",
              "      <td>POINT (-58.80237 -34.54181)</td>\n",
              "    </tr>\n",
              "  </tbody>\n",
              "</table>\n",
              "</div>"
            ],
            "text/plain": [
              "              FECHATRX  DIA DIASEMANA  HORA  MODO  NROTARJETA  SECUENCIA_  \\\n",
              "0  20/11/2021 23:59:40   20    Sábado    23  COLE  1838951397         113   \n",
              "\n",
              "   ID_COMBINA              CONTRATO DESC_TRX                 ENTIDAD  \\\n",
              "0         NaN  627 - NO REGISTRADOS      Uso  LA NUEVA METROPOL S.A.   \n",
              "\n",
              "       LINEA MUNICIPIO DESC_RAMAL  ESTACION  ID_SERVICI  DIRECTION  LONGITUDE  \\\n",
              "0  LINEA 365      PROV      365R6       NaN        2415          0  -58.80237   \n",
              "\n",
              "   LATITUDE                     geometry  \n",
              "0 -34.54181  POINT (-58.80237 -34.54181)  "
            ]
          },
          "execution_count": 7,
          "metadata": {},
          "output_type": "execute_result"
        }
      ],
      "source": [
        "### Armamos los puntos del dataframe original\n",
        "df['geometry'] = df.apply(lambda x: Point(float(x.LONGITUDE), float(x.LATITUDE)), axis=1)\n",
        "\n",
        "## Print encabezado\n",
        "df.head(1)"
      ]
    },
    {
      "cell_type": "code",
      "execution_count": null,
      "id": "1aeb938c",
      "metadata": {
        "id": "1aeb938c"
      },
      "outputs": [],
      "source": [
        "## Creamos el geodataframe y tomamos el sistema de coordenadas del shape\n",
        "df_gdf = gpd.GeoDataFrame(df, crs = shape_filtrado.crs, geometry = df.geometry)"
      ]
    },
    {
      "cell_type": "markdown",
      "id": "4b3fc8f1",
      "metadata": {
        "id": "4b3fc8f1"
      },
      "source": [
        "## Chequeamos que el sistema de coordenadas sea el mismo en ambos Geodata Frame"
      ]
    },
    {
      "cell_type": "code",
      "execution_count": null,
      "id": "9ecbcdf4",
      "metadata": {
        "id": "9ecbcdf4",
        "outputId": "b60a4cc5-6c2c-43d3-cf3a-44fa0b40f39d"
      },
      "outputs": [
        {
          "data": {
            "text/plain": [
              "<Geographic 2D CRS: EPSG:4326>\n",
              "Name: WGS 84\n",
              "Axis Info [ellipsoidal]:\n",
              "- Lat[north]: Geodetic latitude (degree)\n",
              "- Lon[east]: Geodetic longitude (degree)\n",
              "Area of Use:\n",
              "- name: World.\n",
              "- bounds: (-180.0, -90.0, 180.0, 90.0)\n",
              "Datum: World Geodetic System 1984 ensemble\n",
              "- Ellipsoid: WGS 84\n",
              "- Prime Meridian: Greenwich"
            ]
          },
          "execution_count": 9,
          "metadata": {},
          "output_type": "execute_result"
        }
      ],
      "source": [
        "## Corroboramos el CRS de el shape importado\n",
        "shape_filtrado.crs"
      ]
    },
    {
      "cell_type": "code",
      "execution_count": null,
      "id": "f0ae1b2a",
      "metadata": {
        "id": "f0ae1b2a",
        "outputId": "70eba47f-fb62-4e9c-a85f-d436601bf468"
      },
      "outputs": [
        {
          "data": {
            "text/plain": [
              "<Geographic 2D CRS: EPSG:4326>\n",
              "Name: WGS 84\n",
              "Axis Info [ellipsoidal]:\n",
              "- Lat[north]: Geodetic latitude (degree)\n",
              "- Lon[east]: Geodetic longitude (degree)\n",
              "Area of Use:\n",
              "- name: World.\n",
              "- bounds: (-180.0, -90.0, 180.0, 90.0)\n",
              "Datum: World Geodetic System 1984 ensemble\n",
              "- Ellipsoid: WGS 84\n",
              "- Prime Meridian: Greenwich"
            ]
          },
          "execution_count": 10,
          "metadata": {},
          "output_type": "execute_result"
        }
      ],
      "source": [
        "df_gdf.crs"
      ]
    },
    {
      "cell_type": "markdown",
      "id": "5f5fa4ae",
      "metadata": {
        "id": "5f5fa4ae"
      },
      "source": [
        "## Graficamos el poligono y los puntos de los geodataframe\\"
      ]
    },
    {
      "cell_type": "code",
      "execution_count": null,
      "id": "e4721487-d644-40f1-ae68-d1ebc19e45f2",
      "metadata": {
        "id": "e4721487-d644-40f1-ae68-d1ebc19e45f2",
        "outputId": "a7882659-2331-4881-886e-27744da9bf74"
      },
      "outputs": [
        {
          "data": {
            "text/plain": [
              "<matplotlib.collections.PathCollection at 0x7f781063f160>"
            ]
          },
          "execution_count": 11,
          "metadata": {},
          "output_type": "execute_result"
        },
        {
          "data": {
            "image/png": "[encoded data removed]",
            "text/plain": [
              "<Figure size 1440x720 with 1 Axes>"
            ]
          },
          "metadata": {
            "needs_background": "light"
          },
          "output_type": "display_data"
        }
      ],
      "source": [
        "shape_filtrado.plot( legend=True , figsize=(20,10))\n",
        "plt.scatter(x=df_gdf.LONGITUDE, y=df_gdf.LATITUDE, c='black', edgecolor = 'yellow')"
      ]
    },
    {
      "cell_type": "markdown",
      "id": "518dd55c",
      "metadata": {
        "id": "518dd55c"
      },
      "source": [
        "## Intersección"
      ]
    },
    {
      "cell_type": "code",
      "execution_count": null,
      "id": "d74b0d97",
      "metadata": {
        "id": "d74b0d97",
        "outputId": "e03a34de-a852-4e4b-c339-0bedcad00857"
      },
      "outputs": [
        {
          "data": {
            "text/plain": [
              "True"
            ]
          },
          "execution_count": 12,
          "metadata": {},
          "output_type": "execute_result"
        }
      ],
      "source": [
        "#import shapely.speedups\n",
        "from shapely import speedups\n",
        "speedups.enabled\n",
        "\n",
        "# If false, run this line:\n",
        "#shapely.speedups.enable()"
      ]
    },
    {
      "cell_type": "code",
      "execution_count": null,
      "id": "c9a5375d",
      "metadata": {
        "id": "c9a5375d",
        "outputId": "57085b60-29ec-4fec-eeb5-fec7389720b1"
      },
      "outputs": [
        {
          "name": "stdout",
          "output_type": "stream",
          "text": [
            "0         False\n",
            "1         False\n",
            "2         False\n",
            "3         False\n",
            "4         False\n",
            "          ...  \n",
            "967648     True\n",
            "967649    False\n",
            "967650    False\n",
            "967651    False\n",
            "967652    False\n",
            "Length: 967653, dtype: bool\n"
          ]
        }
      ],
      "source": [
        "interseccion = df_gdf.within(shape_filtrado.at[0, 'geometry'])\n",
        "print(interseccion)"
      ]
    },
    {
      "cell_type": "code",
      "execution_count": null,
      "id": "d04da5a8",
      "metadata": {
        "id": "d04da5a8",
        "outputId": "9261af37-3eea-4fef-a67a-3f9c53f12e61"
      },
      "outputs": [
        {
          "data": {
            "text/html": [
              "<div>\n",
              "<style scoped>\n",
              "    .dataframe tbody tr th:only-of-type {\n",
              "        vertical-align: middle;\n",
              "    }\n",
              "\n",
              "    .dataframe tbody tr th {\n",
              "        vertical-align: top;\n",
              "    }\n",
              "\n",
              "    .dataframe thead th {\n",
              "        text-align: right;\n",
              "    }\n",
              "</style>\n",
              "<table border=\"1\" class=\"dataframe\">\n",
              "  <thead>\n",
              "    <tr style=\"text-align: right;\">\n",
              "      <th></th>\n",
              "      <th>FECHATRX</th>\n",
              "      <th>DIA</th>\n",
              "      <th>DIASEMANA</th>\n",
              "      <th>HORA</th>\n",
              "      <th>MODO</th>\n",
              "      <th>NROTARJETA</th>\n",
              "      <th>SECUENCIA_</th>\n",
              "      <th>ID_COMBINA</th>\n",
              "      <th>CONTRATO</th>\n",
              "      <th>DESC_TRX</th>\n",
              "      <th>ENTIDAD</th>\n",
              "      <th>LINEA</th>\n",
              "      <th>MUNICIPIO</th>\n",
              "      <th>DESC_RAMAL</th>\n",
              "      <th>ESTACION</th>\n",
              "      <th>ID_SERVICI</th>\n",
              "      <th>DIRECTION</th>\n",
              "      <th>LONGITUDE</th>\n",
              "      <th>LATITUDE</th>\n",
              "      <th>geometry</th>\n",
              "    </tr>\n",
              "  </thead>\n",
              "  <tbody>\n",
              "    <tr>\n",
              "      <th>5</th>\n",
              "      <td>20/11/2021 23:59:14</td>\n",
              "      <td>20</td>\n",
              "      <td>Sábado</td>\n",
              "      <td>23</td>\n",
              "      <td>COLE</td>\n",
              "      <td>1806655137</td>\n",
              "      <td>469</td>\n",
              "      <td>NaN</td>\n",
              "      <td>627 - NO REGISTRADOS</td>\n",
              "      <td>Uso</td>\n",
              "      <td>MICRO OMNIBUS NORTE S.A.</td>\n",
              "      <td>LINEA 60</td>\n",
              "      <td>JN</td>\n",
              "      <td>C</td>\n",
              "      <td>NaN</td>\n",
              "      <td>1651</td>\n",
              "      <td>0</td>\n",
              "      <td>-58.60791</td>\n",
              "      <td>-34.41233</td>\n",
              "      <td>POINT (-58.60791 -34.41233)</td>\n",
              "    </tr>\n",
              "  </tbody>\n",
              "</table>\n",
              "</div>"
            ],
            "text/plain": [
              "              FECHATRX  DIA DIASEMANA  HORA  MODO  NROTARJETA  SECUENCIA_  \\\n",
              "5  20/11/2021 23:59:14   20    Sábado    23  COLE  1806655137         469   \n",
              "\n",
              "   ID_COMBINA              CONTRATO DESC_TRX                   ENTIDAD  \\\n",
              "5         NaN  627 - NO REGISTRADOS      Uso  MICRO OMNIBUS NORTE S.A.   \n",
              "\n",
              "      LINEA MUNICIPIO DESC_RAMAL  ESTACION  ID_SERVICI  DIRECTION  LONGITUDE  \\\n",
              "5  LINEA 60        JN          C       NaN        1651          0  -58.60791   \n",
              "\n",
              "   LATITUDE                     geometry  \n",
              "5 -34.41233  POINT (-58.60791 -34.41233)  "
            ]
          },
          "execution_count": 14,
          "metadata": {},
          "output_type": "execute_result"
        }
      ],
      "source": [
        "interseccion = df_gdf.loc[interseccion]\n",
        "interseccion.head(1)"
      ]
    },
    {
      "cell_type": "markdown",
      "id": "48629410",
      "metadata": {
        "id": "48629410"
      },
      "source": [
        "## Graficamos para comprobar visualmente que el proceso esta bien realizado\n"
      ]
    },
    {
      "cell_type": "code",
      "execution_count": null,
      "id": "cab4480a-bcd2-443d-8ab9-d9e2c6feff97",
      "metadata": {
        "id": "cab4480a-bcd2-443d-8ab9-d9e2c6feff97",
        "outputId": "dfab41a3-6e13-40ad-e3cc-4935ebd47f70"
      },
      "outputs": [
        {
          "data": {
            "text/plain": [
              "<matplotlib.collections.PathCollection at 0x7f780fd1a640>"
            ]
          },
          "execution_count": 26,
          "metadata": {},
          "output_type": "execute_result"
        },
        {
          "data": {
            "image/png": "[encoded data removed]",
            "text/plain": [
              "<Figure size 1440x720 with 1 Axes>"
            ]
          },
          "metadata": {
            "needs_background": "light"
          },
          "output_type": "display_data"
        }
      ],
      "source": [
        "shape_filtrado.plot( legend=True , figsize=(20,10))\n",
        "plt.scatter(x=df_limpia.LONGITUDE, y=df_limpia.LATITUDE, c='black', edgecolor = 'yellow')"
      ]
    },
    {
      "cell_type": "markdown",
      "id": "2d14fdde",
      "metadata": {
        "id": "2d14fdde"
      },
      "source": [
        "## Guardamos el dataframe"
      ]
    },
    {
      "cell_type": "code",
      "execution_count": null,
      "id": "339bcf25",
      "metadata": {
        "id": "339bcf25"
      },
      "outputs": [],
      "source": [
        "interseccion.to_csv(\"interseccion.csv\")\n"
      ]
    }
  ],
  "metadata": {
    "colab": {
      "name": "Intersecciones_con_Geopanda.ipynb",
      "provenance": [],
      "include_colab_link": true
    },
    "kernelspec": {
      "display_name": "Python 3",
      "language": "python",
      "name": "python3"
    },
    "language_info": {
      "codemirror_mode": {
        "name": "ipython",
        "version": 3
      },
      "file_extension": ".py",
      "mimetype": "text/x-python",
      "name": "python",
      "nbconvert_exporter": "python",
      "pygments_lexer": "ipython3",
      "version": "3.8.13"
    }
  },
  "nbformat": 4,
  "nbformat_minor": 5
}