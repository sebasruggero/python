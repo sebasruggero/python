{
  "cells": [
    {
      "cell_type": "markdown",
      "metadata": {
        "id": "view-in-github",
        "colab_type": "text"
      },
      "source": [
        "<a href=\"https://colab.research.google.com/github/sebasruggero/python/blob/main/ETL_Sube.ipynb\" target=\"_parent\"><img src=\"https://colab.research.google.com/assets/colab-badge.svg\" alt=\"Open In Colab\"/></a>"
      ]
    },
    {
      "cell_type": "markdown",
      "id": "81fec443-ad1d-4463-837b-a8c5d2c5880f",
      "metadata": {
        "id": "81fec443-ad1d-4463-837b-a8c5d2c5880f"
      },
      "source": [
        "![img](https://www.argentina.gob.ar/sites/default/files/min_transporte.png)\n",
        "![img](https://upload.wikimedia.org/wikipedia/commons/5/50/Sube_logo_blanco.png)\n",
        "\n",
        "\n",
        "# ETL - Sube\n",
        "### Lic. Sebastian Ruggero\n",
        "\n"
      ]
    },
    {
      "cell_type": "markdown",
      "id": "845b3456",
      "metadata": {
        "id": "845b3456"
      },
      "source": [
        "# Extraccion"
      ]
    },
    {
      "cell_type": "markdown",
      "id": "c7100ce9-9006-4f10-9145-7fef99a93ea2",
      "metadata": {
        "id": "c7100ce9-9006-4f10-9145-7fef99a93ea2"
      },
      "source": [
        "## Importamos las librerias "
      ]
    },
    {
      "cell_type": "code",
      "execution_count": null,
      "id": "c79ed4aa-2943-469e-aee1-e6fce904d27a",
      "metadata": {
        "colab": {
          "base_uri": "https://localhost:8080/"
        },
        "id": "c79ed4aa-2943-469e-aee1-e6fce904d27a",
        "outputId": "809b52d2-1465-4e1e-9aa4-f07a12190628",
        "scrolled": true
      },
      "outputs": [
        {
          "name": "stdout",
          "output_type": "stream",
          "text": [
            "Collecting tables\n",
            "  Using cached tables-3.7.0-cp38-cp38-manylinux_2_17_x86_64.manylinux2014_x86_64.whl (5.9 MB)\n",
            "Collecting numexpr>=2.6.2\n",
            "  Using cached numexpr-2.8.1-cp38-cp38-manylinux_2_17_x86_64.manylinux2014_x86_64.whl (381 kB)\n",
            "Requirement already satisfied: numpy>=1.19.0 in /home/sebastian/anaconda3/envs/python-gis/lib/python3.8/site-packages (from tables) (1.22.3)\n",
            "Requirement already satisfied: packaging in /home/sebastian/anaconda3/envs/python-gis/lib/python3.8/site-packages (from tables) (21.3)\n",
            "Requirement already satisfied: pyparsing!=3.0.5,>=2.0.2 in /home/sebastian/anaconda3/envs/python-gis/lib/python3.8/site-packages (from packaging->tables) (3.0.7)\n",
            "Installing collected packages: numexpr, tables\n",
            "\u001b[33m  WARNING: The scripts pt2to3, ptdump, ptrepack and pttree are installed in '/home/sebastian/.local/bin' which is not on PATH.\n",
            "  Consider adding this directory to PATH or, if you prefer to suppress this warning, use --no-warn-script-location.\u001b[0m\n",
            "Successfully installed numexpr-2.8.1 tables-3.7.0\n"
          ]
        }
      ],
      "source": [
        "import numpy as np\n",
        "import pandas as pd \n",
        "import os\n",
        "!pip install --user tables"
      ]
    },
    {
      "cell_type": "markdown",
      "id": "60112587",
      "metadata": {
        "id": "60112587"
      },
      "source": [
        "## Definimos el directorio de las fuentes de datos.\n"
      ]
    },
    {
      "cell_type": "code",
      "execution_count": null,
      "id": "ca1d1e5b",
      "metadata": {
        "id": "ca1d1e5b"
      },
      "outputs": [],
      "source": [
        "os.chdir(\"/home/sebastian/data_science/sube\") "
      ]
    },
    {
      "cell_type": "markdown",
      "id": "a8045f9a",
      "metadata": {
        "id": "a8045f9a"
      },
      "source": [
        "## Leemos la data y verificamos algunas variables"
      ]
    },
    {
      "cell_type": "code",
      "execution_count": null,
      "id": "c40bfd43",
      "metadata": {
        "id": "c40bfd43"
      },
      "outputs": [],
      "source": [
        "df = pd.read_csv(\"data/file.csv\", sep=\";\", nrows= 2_000_000,index_col=False)"
      ]
    },
    {
      "cell_type": "code",
      "execution_count": null,
      "id": "f27dec32",
      "metadata": {
        "id": "f27dec32",
        "outputId": "ced19925-2086-4cb0-a612-711146c848d1"
      },
      "outputs": [
        {
          "data": {
            "text/html": [
              "<div>\n",
              "<style scoped>\n",
              "    .dataframe tbody tr th:only-of-type {\n",
              "        vertical-align: middle;\n",
              "    }\n",
              "\n",
              "    .dataframe tbody tr th {\n",
              "        vertical-align: top;\n",
              "    }\n",
              "\n",
              "    .dataframe thead th {\n",
              "        text-align: right;\n",
              "    }\n",
              "</style>\n",
              "<table border=\"1\" class=\"dataframe\">\n",
              "  <thead>\n",
              "    <tr style=\"text-align: right;\">\n",
              "      <th></th>\n",
              "      <th>CODIGOENTIDAD</th>\n",
              "      <th>IDLINEA</th>\n",
              "      <th>NROCHIP</th>\n",
              "      <th>NROTARJETA</th>\n",
              "      <th>CODIGOCONTRATO</th>\n",
              "      <th>SECUENCIA_TARJETA</th>\n",
              "      <th>FECHATRX</th>\n",
              "      <th>MONTO</th>\n",
              "      <th>SALDO</th>\n",
              "      <th>VALOR_TARIFA</th>\n",
              "      <th>...</th>\n",
              "      <th>EMISOR_MONEDERO</th>\n",
              "      <th>SECCION_FIN</th>\n",
              "      <th>SECCION_INICIO</th>\n",
              "      <th>DESCUENTO</th>\n",
              "      <th>PROVISION</th>\n",
              "      <th>ID_POSICIONAMIENTO</th>\n",
              "      <th>PTC</th>\n",
              "      <th>LTC</th>\n",
              "      <th>ID_COMBINACION</th>\n",
              "      <th>DESCUENTO_ITG</th>\n",
              "    </tr>\n",
              "  </thead>\n",
              "  <tbody>\n",
              "    <tr>\n",
              "      <th>0</th>\n",
              "      <td>435</td>\n",
              "      <td>NaN</td>\n",
              "      <td>4087763771</td>\n",
              "      <td>1704911567</td>\n",
              "      <td>602</td>\n",
              "      <td>583</td>\n",
              "      <td>09/01/2022 09:44:16</td>\n",
              "      <td>500.0</td>\n",
              "      <td>740.62</td>\n",
              "      <td>500.0</td>\n",
              "      <td>...</td>\n",
              "      <td>5</td>\n",
              "      <td>NaN</td>\n",
              "      <td>NaN</td>\n",
              "      <td>0.0</td>\n",
              "      <td>NaN</td>\n",
              "      <td>0</td>\n",
              "      <td>558</td>\n",
              "      <td>0</td>\n",
              "      <td>NaN</td>\n",
              "      <td>NaN</td>\n",
              "    </tr>\n",
              "    <tr>\n",
              "      <th>1</th>\n",
              "      <td>435</td>\n",
              "      <td>NaN</td>\n",
              "      <td>36128809661985284</td>\n",
              "      <td>1831398991</td>\n",
              "      <td>602</td>\n",
              "      <td>1744</td>\n",
              "      <td>09/01/2022 09:49:35</td>\n",
              "      <td>500.0</td>\n",
              "      <td>640.59</td>\n",
              "      <td>500.0</td>\n",
              "      <td>...</td>\n",
              "      <td>5</td>\n",
              "      <td>NaN</td>\n",
              "      <td>NaN</td>\n",
              "      <td>0.0</td>\n",
              "      <td>NaN</td>\n",
              "      <td>0</td>\n",
              "      <td>1740</td>\n",
              "      <td>1</td>\n",
              "      <td>NaN</td>\n",
              "      <td>NaN</td>\n",
              "    </tr>\n",
              "    <tr>\n",
              "      <th>2</th>\n",
              "      <td>435</td>\n",
              "      <td>NaN</td>\n",
              "      <td>3296295979</td>\n",
              "      <td>1703944868</td>\n",
              "      <td>602</td>\n",
              "      <td>283</td>\n",
              "      <td>09/01/2022 12:01:49</td>\n",
              "      <td>200.0</td>\n",
              "      <td>223.91</td>\n",
              "      <td>200.0</td>\n",
              "      <td>...</td>\n",
              "      <td>5</td>\n",
              "      <td>NaN</td>\n",
              "      <td>NaN</td>\n",
              "      <td>0.0</td>\n",
              "      <td>NaN</td>\n",
              "      <td>0</td>\n",
              "      <td>195</td>\n",
              "      <td>0</td>\n",
              "      <td>NaN</td>\n",
              "      <td>NaN</td>\n",
              "    </tr>\n",
              "    <tr>\n",
              "      <th>3</th>\n",
              "      <td>435</td>\n",
              "      <td>NaN</td>\n",
              "      <td>880099183</td>\n",
              "      <td>1814806757</td>\n",
              "      <td>602</td>\n",
              "      <td>1096</td>\n",
              "      <td>09/01/2022 18:10:56</td>\n",
              "      <td>100.0</td>\n",
              "      <td>102.74</td>\n",
              "      <td>100.0</td>\n",
              "      <td>...</td>\n",
              "      <td>5</td>\n",
              "      <td>NaN</td>\n",
              "      <td>NaN</td>\n",
              "      <td>0.0</td>\n",
              "      <td>NaN</td>\n",
              "      <td>0</td>\n",
              "      <td>1089</td>\n",
              "      <td>0</td>\n",
              "      <td>NaN</td>\n",
              "      <td>NaN</td>\n",
              "    </tr>\n",
              "    <tr>\n",
              "      <th>4</th>\n",
              "      <td>435</td>\n",
              "      <td>NaN</td>\n",
              "      <td>1033964559</td>\n",
              "      <td>1817903537</td>\n",
              "      <td>602</td>\n",
              "      <td>2253</td>\n",
              "      <td>09/01/2022 19:43:41</td>\n",
              "      <td>200.0</td>\n",
              "      <td>312.04</td>\n",
              "      <td>200.0</td>\n",
              "      <td>...</td>\n",
              "      <td>5</td>\n",
              "      <td>NaN</td>\n",
              "      <td>NaN</td>\n",
              "      <td>0.0</td>\n",
              "      <td>NaN</td>\n",
              "      <td>0</td>\n",
              "      <td>2250</td>\n",
              "      <td>3</td>\n",
              "      <td>NaN</td>\n",
              "      <td>NaN</td>\n",
              "    </tr>\n",
              "  </tbody>\n",
              "</table>\n",
              "<p>5 rows × 42 columns</p>\n",
              "</div>"
            ],
            "text/plain": [
              "   CODIGOENTIDAD  IDLINEA            NROCHIP  NROTARJETA  CODIGOCONTRATO  \\\n",
              "0            435      NaN         4087763771  1704911567             602   \n",
              "1            435      NaN  36128809661985284  1831398991             602   \n",
              "2            435      NaN         3296295979  1703944868             602   \n",
              "3            435      NaN          880099183  1814806757             602   \n",
              "4            435      NaN         1033964559  1817903537             602   \n",
              "\n",
              "   SECUENCIA_TARJETA             FECHATRX  MONTO   SALDO  VALOR_TARIFA  ...  \\\n",
              "0                583  09/01/2022 09:44:16  500.0  740.62         500.0  ...   \n",
              "1               1744  09/01/2022 09:49:35  500.0  640.59         500.0  ...   \n",
              "2                283  09/01/2022 12:01:49  200.0  223.91         200.0  ...   \n",
              "3               1096  09/01/2022 18:10:56  100.0  102.74         100.0  ...   \n",
              "4               2253  09/01/2022 19:43:41  200.0  312.04         200.0  ...   \n",
              "\n",
              "   EMISOR_MONEDERO  SECCION_FIN  SECCION_INICIO  DESCUENTO  PROVISION  \\\n",
              "0                5          NaN             NaN        0.0        NaN   \n",
              "1                5          NaN             NaN        0.0        NaN   \n",
              "2                5          NaN             NaN        0.0        NaN   \n",
              "3                5          NaN             NaN        0.0        NaN   \n",
              "4                5          NaN             NaN        0.0        NaN   \n",
              "\n",
              "   ID_POSICIONAMIENTO   PTC  LTC ID_COMBINACION  DESCUENTO_ITG  \n",
              "0                   0   558    0            NaN            NaN  \n",
              "1                   0  1740    1            NaN            NaN  \n",
              "2                   0   195    0            NaN            NaN  \n",
              "3                   0  1089    0            NaN            NaN  \n",
              "4                   0  2250    3            NaN            NaN  \n",
              "\n",
              "[5 rows x 42 columns]"
            ]
          },
          "execution_count": 8,
          "metadata": {},
          "output_type": "execute_result"
        }
      ],
      "source": [
        "df.head()"
      ]
    },
    {
      "cell_type": "code",
      "execution_count": null,
      "id": "edbe257c",
      "metadata": {
        "id": "edbe257c",
        "outputId": "acd2e321-7458-4d4a-c4a1-cede06978414"
      },
      "outputs": [
        {
          "data": {
            "text/plain": [
              "CODIGOENTIDAD             int64\n",
              "IDLINEA                 float64\n",
              "NROCHIP                   int64\n",
              "NROTARJETA                int64\n",
              "CODIGOCONTRATO            int64\n",
              "SECUENCIA_TARJETA         int64\n",
              "FECHATRX                 object\n",
              "MONTO                   float64\n",
              "SALDO                   float64\n",
              "VALOR_TARIFA            float64\n",
              "INTERNO                   int64\n",
              "DISPOSITIVO               int64\n",
              "SECTERMINAL               int64\n",
              "CODIGOTIPOTRX             int64\n",
              "CODIGOSUBTIPOTRX          int64\n",
              "TIPOMAPPING               int64\n",
              "ENTIDAD_EMISORA_TARJ      int64\n",
              "CODIGOERROR               int64\n",
              "FECHAPROCESO             object\n",
              "RAMAL                     int64\n",
              "IDARCHIVOINTERCAMBIO      int64\n",
              "CODIGOROL                object\n",
              "CODIGOTIPOTARJETA         int64\n",
              "SENTIDO                 float64\n",
              "MONEDERO_ID               int64\n",
              "EMISOR_CONTRATO           int64\n",
              "SAM_ID                    int64\n",
              "LG_ID                   float64\n",
              "TIPO_TERMINAL             int64\n",
              "ID_SERVICIO             float64\n",
              "VERSION_TIPO_TRX          int64\n",
              "ID_INTEGRADOR             int64\n",
              "EMISOR_MONEDERO           int64\n",
              "SECCION_FIN             float64\n",
              "SECCION_INICIO          float64\n",
              "DESCUENTO               float64\n",
              "PROVISION               float64\n",
              "ID_POSICIONAMIENTO        int64\n",
              "PTC                       int64\n",
              "LTC                       int64\n",
              "ID_COMBINACION          float64\n",
              "DESCUENTO_ITG           float64\n",
              "dtype: object"
            ]
          },
          "execution_count": 9,
          "metadata": {},
          "output_type": "execute_result"
        }
      ],
      "source": [
        "df.dtypes"
      ]
    },
    {
      "cell_type": "markdown",
      "id": "968b4ea3",
      "metadata": {
        "id": "968b4ea3"
      },
      "source": [
        "# Transformacion"
      ]
    },
    {
      "cell_type": "markdown",
      "id": "3afe3861",
      "metadata": {
        "id": "3afe3861"
      },
      "source": [
        "## Creamos las columnas Time alternativa"
      ]
    },
    {
      "cell_type": "code",
      "execution_count": null,
      "id": "4a4392d1",
      "metadata": {
        "id": "4a4392d1"
      },
      "outputs": [],
      "source": [
        "df['FECHATRX_1'] =  pd.to_datetime(df.FECHATRX, errors='ignore')"
      ]
    },
    {
      "cell_type": "code",
      "execution_count": null,
      "id": "602570ba",
      "metadata": {
        "id": "602570ba"
      },
      "outputs": [],
      "source": [
        "df['FECHATRX_2'] = pd.to_datetime(df[\"FECHATRX_1\"]).dt.strftime('%m-%d-%Y')"
      ]
    },
    {
      "cell_type": "code",
      "execution_count": null,
      "id": "c84a9f4c",
      "metadata": {
        "id": "c84a9f4c",
        "outputId": "43de0a63-1568-4596-d784-0a0190358b0e"
      },
      "outputs": [
        {
          "data": {
            "text/plain": [
              "CODIGOENTIDAD                    int64\n",
              "IDLINEA                        float64\n",
              "NROCHIP                          int64\n",
              "NROTARJETA                       int64\n",
              "CODIGOCONTRATO                   int64\n",
              "SECUENCIA_TARJETA                int64\n",
              "FECHATRX                        object\n",
              "MONTO                          float64\n",
              "SALDO                          float64\n",
              "VALOR_TARIFA                   float64\n",
              "INTERNO                          int64\n",
              "DISPOSITIVO                      int64\n",
              "SECTERMINAL                      int64\n",
              "CODIGOTIPOTRX                    int64\n",
              "CODIGOSUBTIPOTRX                 int64\n",
              "TIPOMAPPING                      int64\n",
              "ENTIDAD_EMISORA_TARJ             int64\n",
              "CODIGOERROR                      int64\n",
              "FECHAPROCESO                    object\n",
              "RAMAL                            int64\n",
              "IDARCHIVOINTERCAMBIO             int64\n",
              "CODIGOROL                       object\n",
              "CODIGOTIPOTARJETA                int64\n",
              "SENTIDO                        float64\n",
              "MONEDERO_ID                      int64\n",
              "EMISOR_CONTRATO                  int64\n",
              "SAM_ID                           int64\n",
              "LG_ID                          float64\n",
              "TIPO_TERMINAL                    int64\n",
              "ID_SERVICIO                    float64\n",
              "VERSION_TIPO_TRX                 int64\n",
              "ID_INTEGRADOR                    int64\n",
              "EMISOR_MONEDERO                  int64\n",
              "SECCION_FIN                    float64\n",
              "SECCION_INICIO                 float64\n",
              "DESCUENTO                      float64\n",
              "PROVISION                      float64\n",
              "ID_POSICIONAMIENTO               int64\n",
              "PTC                              int64\n",
              "LTC                              int64\n",
              "ID_COMBINACION                 float64\n",
              "DESCUENTO_ITG                  float64\n",
              "FECHATRX_1              datetime64[ns]\n",
              "AÑO                              int64\n",
              "MES                              int64\n",
              "DIA                              int64\n",
              "HORA                             int64\n",
              "NUMERODIA                        int64\n",
              "FECHATRX_2                      object\n",
              "dtype: object"
            ]
          },
          "execution_count": 15,
          "metadata": {},
          "output_type": "execute_result"
        }
      ],
      "source": [
        "df.dtypes"
      ]
    },
    {
      "cell_type": "code",
      "execution_count": null,
      "id": "37432d4b",
      "metadata": {
        "id": "37432d4b"
      },
      "outputs": [],
      "source": [
        "df['AÑO'] = df[\"FECHATRX_1\"].dt.year \n",
        "df['MES'] = df['FECHATRX_1'].dt.day\n",
        "df['DIA'] = df['FECHATRX_1'].dt.month\n",
        "df['HORA'] = df['FECHATRX_1'].dt.hour\n",
        "df['NUMERODIA'] = df['FECHATRX_1'].dt.dayofweek"
      ]
    },
    {
      "cell_type": "code",
      "execution_count": null,
      "id": "83ed5ff0",
      "metadata": {
        "id": "83ed5ff0",
        "outputId": "3cd5b2f7-0755-4c10-e713-6e69d8e37a79"
      },
      "outputs": [
        {
          "data": {
            "text/html": [
              "<div>\n",
              "<style scoped>\n",
              "    .dataframe tbody tr th:only-of-type {\n",
              "        vertical-align: middle;\n",
              "    }\n",
              "\n",
              "    .dataframe tbody tr th {\n",
              "        vertical-align: top;\n",
              "    }\n",
              "\n",
              "    .dataframe thead th {\n",
              "        text-align: right;\n",
              "    }\n",
              "</style>\n",
              "<table border=\"1\" class=\"dataframe\">\n",
              "  <thead>\n",
              "    <tr style=\"text-align: right;\">\n",
              "      <th></th>\n",
              "      <th>CODIGOENTIDAD</th>\n",
              "      <th>IDLINEA</th>\n",
              "      <th>NROCHIP</th>\n",
              "      <th>NROTARJETA</th>\n",
              "      <th>CODIGOCONTRATO</th>\n",
              "      <th>SECUENCIA_TARJETA</th>\n",
              "      <th>FECHATRX</th>\n",
              "      <th>MONTO</th>\n",
              "      <th>SALDO</th>\n",
              "      <th>VALOR_TARIFA</th>\n",
              "      <th>...</th>\n",
              "      <th>LTC</th>\n",
              "      <th>ID_COMBINACION</th>\n",
              "      <th>DESCUENTO_ITG</th>\n",
              "      <th>FECHATRX_1</th>\n",
              "      <th>AÑO</th>\n",
              "      <th>MES</th>\n",
              "      <th>DIA</th>\n",
              "      <th>HORA</th>\n",
              "      <th>NUMERODIA</th>\n",
              "      <th>FECHATRX_2</th>\n",
              "    </tr>\n",
              "  </thead>\n",
              "  <tbody>\n",
              "    <tr>\n",
              "      <th>0</th>\n",
              "      <td>435</td>\n",
              "      <td>NaN</td>\n",
              "      <td>4087763771</td>\n",
              "      <td>1704911567</td>\n",
              "      <td>602</td>\n",
              "      <td>583</td>\n",
              "      <td>09/01/2022 09:44:16</td>\n",
              "      <td>500.0</td>\n",
              "      <td>740.62</td>\n",
              "      <td>500.0</td>\n",
              "      <td>...</td>\n",
              "      <td>0</td>\n",
              "      <td>NaN</td>\n",
              "      <td>NaN</td>\n",
              "      <td>2022-09-01 09:44:16</td>\n",
              "      <td>2022</td>\n",
              "      <td>1</td>\n",
              "      <td>9</td>\n",
              "      <td>9</td>\n",
              "      <td>3</td>\n",
              "      <td>09-01-2022</td>\n",
              "    </tr>\n",
              "  </tbody>\n",
              "</table>\n",
              "<p>1 rows × 49 columns</p>\n",
              "</div>"
            ],
            "text/plain": [
              "   CODIGOENTIDAD  IDLINEA     NROCHIP  NROTARJETA  CODIGOCONTRATO  \\\n",
              "0            435      NaN  4087763771  1704911567             602   \n",
              "\n",
              "   SECUENCIA_TARJETA             FECHATRX  MONTO   SALDO  VALOR_TARIFA  ...  \\\n",
              "0                583  09/01/2022 09:44:16  500.0  740.62         500.0  ...   \n",
              "\n",
              "   LTC  ID_COMBINACION  DESCUENTO_ITG          FECHATRX_1   AÑO  MES  DIA  \\\n",
              "0    0             NaN            NaN 2022-09-01 09:44:16  2022    1    9   \n",
              "\n",
              "   HORA NUMERODIA  FECHATRX_2  \n",
              "0     9         3  09-01-2022  \n",
              "\n",
              "[1 rows x 49 columns]"
            ]
          },
          "execution_count": 17,
          "metadata": {},
          "output_type": "execute_result"
        }
      ],
      "source": [
        "df.head(1)"
      ]
    },
    {
      "cell_type": "markdown",
      "id": "caf072b0",
      "metadata": {
        "id": "caf072b0"
      },
      "source": [
        "## Armamos el nuevo dataframe y reindexamos"
      ]
    },
    {
      "cell_type": "code",
      "execution_count": null,
      "id": "95a230d8",
      "metadata": {
        "id": "95a230d8"
      },
      "outputs": [],
      "source": [
        "df_subset = df.loc[:,[\"FECHATRX_2\",\"AÑO\", \"MES\", \"DIA\", \"HORA\",\"NUMERODIA\",\"NROTARJETA\", \"CODIGOCONTRATO\", \"SECUENCIA_TARJETA\", \"MONTO\", \"SALDO\", \"VALOR_TARIFA\"]]"
      ]
    },
    {
      "cell_type": "code",
      "execution_count": null,
      "id": "d81d9ceb",
      "metadata": {
        "id": "d81d9ceb"
      },
      "outputs": [],
      "source": [
        "df_subset = df_subset.reindex(columns=[\"FECHATRX_2\",\"AÑO\", \"MES\", \"DIA\", \"HORA\",\"NUMERODIA\",\"NROTARJETA\", \"CODIGOCONTRATO\", \"SECUENCIA_TARJETA\", \"MONTO\", \"SALDO\", \"VALOR_TARIFA\"])"
      ]
    },
    {
      "cell_type": "code",
      "execution_count": null,
      "id": "6d4bfcca",
      "metadata": {
        "id": "6d4bfcca",
        "outputId": "83f0d56a-3794-4b36-96ae-1369f1167dbb"
      },
      "outputs": [
        {
          "data": {
            "text/plain": [
              "FECHATRX_2            object\n",
              "AÑO                    int64\n",
              "MES                    int64\n",
              "DIA                    int64\n",
              "HORA                   int64\n",
              "NUMERODIA              int64\n",
              "NROTARJETA             int64\n",
              "CODIGOCONTRATO         int64\n",
              "SECUENCIA_TARJETA      int64\n",
              "MONTO                float64\n",
              "SALDO                float64\n",
              "VALOR_TARIFA         float64\n",
              "dtype: object"
            ]
          },
          "execution_count": 20,
          "metadata": {},
          "output_type": "execute_result"
        }
      ],
      "source": [
        "df_subset.dtypes"
      ]
    },
    {
      "cell_type": "markdown",
      "id": "3444b236",
      "metadata": {
        "id": "3444b236"
      },
      "source": [
        "## Cambiamos el tipo de datos"
      ]
    },
    {
      "cell_type": "code",
      "execution_count": null,
      "id": "cf994edd",
      "metadata": {
        "id": "cf994edd"
      },
      "outputs": [],
      "source": [
        "df_subset['AÑO'] = df_subset['AÑO'].apply(np.int32)\n",
        "df_subset['MES'] = df_subset['MES'].apply(np.int16)\n",
        "df_subset['DIA'] = df_subset['DIA'].apply(np.int16)\n",
        "df_subset['NUMERODIA'] = df_subset['DIA'].apply(np.int16)\n",
        "df_subset['NROTARJETA'] = df_subset['NROTARJETA'].apply(np.int32)\n",
        "df_subset['CODIGOCONTRATO'] = df_subset['CODIGOCONTRATO'].apply(np.int32)\n",
        "df_subset['SECUENCIA_TARJETA'] = df_subset['SECUENCIA_TARJETA'].apply(np.int32)\n",
        "df_subset['VALOR_TARIFA'] = df_subset['VALOR_TARIFA'].apply(np.int32)\n"
      ]
    },
    {
      "cell_type": "code",
      "execution_count": null,
      "id": "7a702f2e",
      "metadata": {
        "id": "7a702f2e",
        "outputId": "b3315b66-51bc-4a48-d9ff-3c73c43d1e87"
      },
      "outputs": [
        {
          "data": {
            "text/plain": [
              "FECHATRX_2            object\n",
              "AÑO                    int32\n",
              "MES                    int16\n",
              "DIA                    int16\n",
              "HORA                   int64\n",
              "NUMERODIA              int16\n",
              "NROTARJETA             int32\n",
              "CODIGOCONTRATO         int32\n",
              "SECUENCIA_TARJETA      int32\n",
              "MONTO                float64\n",
              "SALDO                float64\n",
              "VALOR_TARIFA           int32\n",
              "dtype: object"
            ]
          },
          "execution_count": 25,
          "metadata": {},
          "output_type": "execute_result"
        }
      ],
      "source": [
        "df_subset.dtypes"
      ]
    },
    {
      "cell_type": "code",
      "execution_count": null,
      "id": "9a9e42ce",
      "metadata": {
        "id": "9a9e42ce",
        "outputId": "e7c63236-c1b3-447c-9a5f-108ac28c0b97"
      },
      "outputs": [
        {
          "data": {
            "text/html": [
              "<div>\n",
              "<style scoped>\n",
              "    .dataframe tbody tr th:only-of-type {\n",
              "        vertical-align: middle;\n",
              "    }\n",
              "\n",
              "    .dataframe tbody tr th {\n",
              "        vertical-align: top;\n",
              "    }\n",
              "\n",
              "    .dataframe thead th {\n",
              "        text-align: right;\n",
              "    }\n",
              "</style>\n",
              "<table border=\"1\" class=\"dataframe\">\n",
              "  <thead>\n",
              "    <tr style=\"text-align: right;\">\n",
              "      <th></th>\n",
              "      <th>FECHATRX_2</th>\n",
              "      <th>AÑO</th>\n",
              "      <th>MES</th>\n",
              "      <th>DIA</th>\n",
              "      <th>HORA</th>\n",
              "      <th>NUMERODIA</th>\n",
              "      <th>NROTARJETA</th>\n",
              "      <th>CODIGOCONTRATO</th>\n",
              "      <th>SECUENCIA_TARJETA</th>\n",
              "      <th>MONTO</th>\n",
              "      <th>SALDO</th>\n",
              "      <th>VALOR_TARIFA</th>\n",
              "    </tr>\n",
              "  </thead>\n",
              "  <tbody>\n",
              "    <tr>\n",
              "      <th>0</th>\n",
              "      <td>09-01-2022</td>\n",
              "      <td>2022</td>\n",
              "      <td>1</td>\n",
              "      <td>9</td>\n",
              "      <td>9</td>\n",
              "      <td>9</td>\n",
              "      <td>1704911567</td>\n",
              "      <td>602</td>\n",
              "      <td>583</td>\n",
              "      <td>500.0</td>\n",
              "      <td>740.62</td>\n",
              "      <td>500</td>\n",
              "    </tr>\n",
              "    <tr>\n",
              "      <th>1</th>\n",
              "      <td>09-01-2022</td>\n",
              "      <td>2022</td>\n",
              "      <td>1</td>\n",
              "      <td>9</td>\n",
              "      <td>9</td>\n",
              "      <td>9</td>\n",
              "      <td>1831398991</td>\n",
              "      <td>602</td>\n",
              "      <td>1744</td>\n",
              "      <td>500.0</td>\n",
              "      <td>640.59</td>\n",
              "      <td>500</td>\n",
              "    </tr>\n",
              "    <tr>\n",
              "      <th>2</th>\n",
              "      <td>09-01-2022</td>\n",
              "      <td>2022</td>\n",
              "      <td>1</td>\n",
              "      <td>9</td>\n",
              "      <td>12</td>\n",
              "      <td>9</td>\n",
              "      <td>1703944868</td>\n",
              "      <td>602</td>\n",
              "      <td>283</td>\n",
              "      <td>200.0</td>\n",
              "      <td>223.91</td>\n",
              "      <td>200</td>\n",
              "    </tr>\n",
              "    <tr>\n",
              "      <th>3</th>\n",
              "      <td>09-01-2022</td>\n",
              "      <td>2022</td>\n",
              "      <td>1</td>\n",
              "      <td>9</td>\n",
              "      <td>18</td>\n",
              "      <td>9</td>\n",
              "      <td>1814806757</td>\n",
              "      <td>602</td>\n",
              "      <td>1096</td>\n",
              "      <td>100.0</td>\n",
              "      <td>102.74</td>\n",
              "      <td>100</td>\n",
              "    </tr>\n",
              "    <tr>\n",
              "      <th>4</th>\n",
              "      <td>09-01-2022</td>\n",
              "      <td>2022</td>\n",
              "      <td>1</td>\n",
              "      <td>9</td>\n",
              "      <td>19</td>\n",
              "      <td>9</td>\n",
              "      <td>1817903537</td>\n",
              "      <td>602</td>\n",
              "      <td>2253</td>\n",
              "      <td>200.0</td>\n",
              "      <td>312.04</td>\n",
              "      <td>200</td>\n",
              "    </tr>\n",
              "  </tbody>\n",
              "</table>\n",
              "</div>"
            ],
            "text/plain": [
              "   FECHATRX_2   AÑO  MES  DIA  HORA  NUMERODIA  NROTARJETA  CODIGOCONTRATO  \\\n",
              "0  09-01-2022  2022    1    9     9          9  1704911567             602   \n",
              "1  09-01-2022  2022    1    9     9          9  1831398991             602   \n",
              "2  09-01-2022  2022    1    9    12          9  1703944868             602   \n",
              "3  09-01-2022  2022    1    9    18          9  1814806757             602   \n",
              "4  09-01-2022  2022    1    9    19          9  1817903537             602   \n",
              "\n",
              "   SECUENCIA_TARJETA  MONTO   SALDO  VALOR_TARIFA  \n",
              "0                583  500.0  740.62           500  \n",
              "1               1744  500.0  640.59           500  \n",
              "2                283  200.0  223.91           200  \n",
              "3               1096  100.0  102.74           100  \n",
              "4               2253  200.0  312.04           200  "
            ]
          },
          "execution_count": 26,
          "metadata": {},
          "output_type": "execute_result"
        }
      ],
      "source": [
        "df_subset.head()"
      ]
    },
    {
      "cell_type": "markdown",
      "id": "3d84a402",
      "metadata": {
        "id": "3d84a402"
      },
      "source": [
        "## Salvamos el archivo"
      ]
    },
    {
      "cell_type": "code",
      "execution_count": null,
      "id": "5c5bef30",
      "metadata": {
        "id": "5c5bef30"
      },
      "outputs": [],
      "source": [
        "df_subset.to_csv(\"output/salida.csv\")"
      ]
    },
    {
      "cell_type": "code",
      "execution_count": null,
      "id": "9c5ac4c0",
      "metadata": {
        "id": "9c5ac4c0",
        "outputId": "4e7a9195-5eab-431a-94be-78e50fa28ae4"
      },
      "outputs": [
        {
          "name": "stdout",
          "output_type": "stream",
          "text": [
            "CPU times: user 6 µs, sys: 0 ns, total: 6 µs\n",
            "Wall time: 12.9 µs\n"
          ]
        }
      ],
      "source": [
        "%time\n",
        "df_subset.to_hdf(\"output/salida.h5\", key=\"s\")  "
      ]
    },
    {
      "cell_type": "markdown",
      "id": "95255a47",
      "metadata": {
        "id": "95255a47"
      },
      "source": [
        "## Tablas"
      ]
    },
    {
      "cell_type": "markdown",
      "id": "07f55fd1",
      "metadata": {
        "id": "07f55fd1"
      },
      "source": [
        "- Acumulado Anual"
      ]
    },
    {
      "cell_type": "code",
      "execution_count": null,
      "id": "232531b2",
      "metadata": {
        "id": "232531b2"
      },
      "outputs": [],
      "source": [
        "tabla_año = df_subset.groupby(\"AÑO\").count()"
      ]
    },
    {
      "cell_type": "code",
      "execution_count": null,
      "id": "87fe5e37",
      "metadata": {
        "id": "87fe5e37",
        "outputId": "1ef12af5-faec-41b5-983b-822e93991f4d"
      },
      "outputs": [
        {
          "data": {
            "text/html": [
              "<div>\n",
              "<style scoped>\n",
              "    .dataframe tbody tr th:only-of-type {\n",
              "        vertical-align: middle;\n",
              "    }\n",
              "\n",
              "    .dataframe tbody tr th {\n",
              "        vertical-align: top;\n",
              "    }\n",
              "\n",
              "    .dataframe thead th {\n",
              "        text-align: right;\n",
              "    }\n",
              "</style>\n",
              "<table border=\"1\" class=\"dataframe\">\n",
              "  <thead>\n",
              "    <tr style=\"text-align: right;\">\n",
              "      <th></th>\n",
              "      <th>FECHATRX_2</th>\n",
              "      <th>MES</th>\n",
              "      <th>DIA</th>\n",
              "      <th>HORA</th>\n",
              "      <th>NUMERODIA</th>\n",
              "      <th>NROTARJETA</th>\n",
              "      <th>CODIGOCONTRATO</th>\n",
              "      <th>SECUENCIA_TARJETA</th>\n",
              "      <th>MONTO</th>\n",
              "      <th>SALDO</th>\n",
              "      <th>VALOR_TARIFA</th>\n",
              "    </tr>\n",
              "    <tr>\n",
              "      <th>AÑO</th>\n",
              "      <th></th>\n",
              "      <th></th>\n",
              "      <th></th>\n",
              "      <th></th>\n",
              "      <th></th>\n",
              "      <th></th>\n",
              "      <th></th>\n",
              "      <th></th>\n",
              "      <th></th>\n",
              "      <th></th>\n",
              "      <th></th>\n",
              "    </tr>\n",
              "  </thead>\n",
              "  <tbody>\n",
              "    <tr>\n",
              "      <th>2021</th>\n",
              "      <td>6024</td>\n",
              "      <td>6024</td>\n",
              "      <td>6024</td>\n",
              "      <td>6024</td>\n",
              "      <td>6024</td>\n",
              "      <td>6024</td>\n",
              "      <td>6024</td>\n",
              "      <td>6024</td>\n",
              "      <td>6024</td>\n",
              "      <td>6024</td>\n",
              "      <td>6024</td>\n",
              "    </tr>\n",
              "    <tr>\n",
              "      <th>2022</th>\n",
              "      <td>1993976</td>\n",
              "      <td>1993976</td>\n",
              "      <td>1993976</td>\n",
              "      <td>1993976</td>\n",
              "      <td>1993976</td>\n",
              "      <td>1993976</td>\n",
              "      <td>1993976</td>\n",
              "      <td>1993976</td>\n",
              "      <td>1993976</td>\n",
              "      <td>1993976</td>\n",
              "      <td>1993976</td>\n",
              "    </tr>\n",
              "  </tbody>\n",
              "</table>\n",
              "</div>"
            ],
            "text/plain": [
              "      FECHATRX_2      MES      DIA     HORA  NUMERODIA  NROTARJETA  \\\n",
              "AÑO                                                                  \n",
              "2021        6024     6024     6024     6024       6024        6024   \n",
              "2022     1993976  1993976  1993976  1993976    1993976     1993976   \n",
              "\n",
              "      CODIGOCONTRATO  SECUENCIA_TARJETA    MONTO    SALDO  VALOR_TARIFA  \n",
              "AÑO                                                                      \n",
              "2021            6024               6024     6024     6024          6024  \n",
              "2022         1993976            1993976  1993976  1993976       1993976  "
            ]
          },
          "execution_count": 35,
          "metadata": {},
          "output_type": "execute_result"
        }
      ],
      "source": [
        "tabla_año.FECHATRX"
      ]
    },
    {
      "cell_type": "markdown",
      "id": "0508a35d",
      "metadata": {
        "id": "0508a35d"
      },
      "source": [
        "- Acumulado Mensual"
      ]
    },
    {
      "cell_type": "code",
      "execution_count": null,
      "id": "2f682b8b",
      "metadata": {
        "id": "2f682b8b"
      },
      "outputs": [],
      "source": [
        "tabla_dia = df.groupby(\"NUMERODIA\").count()"
      ]
    },
    {
      "cell_type": "code",
      "execution_count": null,
      "id": "837a5818",
      "metadata": {
        "id": "837a5818",
        "outputId": "162f69bf-5245-403d-be7e-391a8523e24a"
      },
      "outputs": [
        {
          "data": {
            "text/plain": [
              "NUMERODIA\n",
              "0    208320\n",
              "1    152806\n",
              "2     75458\n",
              "3    339670\n",
              "4    449123\n",
              "5    623468\n",
              "6    151155\n",
              "Name: FECHATRX_1, dtype: int64"
            ]
          },
          "execution_count": 32,
          "metadata": {},
          "output_type": "execute_result"
        }
      ],
      "source": [
        "tabla_dia.FECHATRX_1"
      ]
    },
    {
      "cell_type": "code",
      "execution_count": null,
      "id": "974b763c",
      "metadata": {
        "id": "974b763c"
      },
      "outputs": [],
      "source": [
        ""
      ]
    }
  ],
  "metadata": {
    "colab": {
      "name": "ETL-Sube.ipynb",
      "provenance": [],
      "include_colab_link": true
    },
    "kernelspec": {
      "display_name": "Python 3",
      "language": "python",
      "name": "python3"
    },
    "language_info": {
      "codemirror_mode": {
        "name": "ipython",
        "version": 3
      },
      "file_extension": ".py",
      "mimetype": "text/x-python",
      "name": "python",
      "nbconvert_exporter": "python",
      "pygments_lexer": "ipython3",
      "version": "3.8.13"
    }
  },
  "nbformat": 4,
  "nbformat_minor": 5
}